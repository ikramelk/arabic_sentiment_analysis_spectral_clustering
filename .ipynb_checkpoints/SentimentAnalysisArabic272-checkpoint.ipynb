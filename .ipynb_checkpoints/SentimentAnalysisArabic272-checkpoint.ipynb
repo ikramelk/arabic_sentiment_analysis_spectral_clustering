{
 "cells": [
  {
   "cell_type": "code",
   "execution_count": 1,
   "metadata": {},
   "outputs": [],
   "source": [
    "from __future__ import unicode_literals\n",
    "import nltk\n",
    "import numpy as np\n",
    "import pandas as pd\n",
    "import re\n",
    "from nltk import word_tokenize\n",
    "from nltk.stem.isri import ISRIStemmer\n",
    "import itertools\n",
    "import sklearn\n",
    "from sklearn.feature_extraction.text import CountVectorizer\n",
    "from sklearn.feature_extraction.text import TfidfVectorizer\n",
    "from sklearn.cluster import KMeans\n",
    "from sklearn.cluster import SpectralClustering\n",
    "from sklearn.metrics import accuracy_score\n",
    "from sklearn.metrics import confusion_matrix\n",
    "from sklearn.metrics import classification_report\n",
    "from scipy.sparse import csgraph\n",
    "from scipy.sparse.linalg import eigsh\n",
    "from sklearn.cluster import k_means\n",
    "from scipy import sparse\n",
    "from sklearn.metrics.pairwise import laplacian_kernel, rbf_kernel,linear_kernel\n",
    "import matplotlib.pyplot as plt\n",
    "from sklearn.cluster import AgglomerativeClustering\n",
    "from sklearn.neighbors import kneighbors_graph\n",
    "from sklearn.metrics import confusion_matrix, precision_score, recall_score,f1_score\n",
    "from sklearn.preprocessing import normalize\n",
    "import timeit"
   ]
  },
  {
   "cell_type": "markdown",
   "metadata": {},
   "source": [
    "#  Read Dataset"
   ]
  },
  {
   "cell_type": "code",
   "execution_count": 4,
   "metadata": {},
   "outputs": [],
   "source": [
    "dfreviews= pd.read_csv('/Users/ikram/Documents/PhD/dataset/DatasetBookReviews1299.csv',sep=';',names=['review','polarity'])"
   ]
  },
  {
   "cell_type": "code",
   "execution_count": 5,
   "metadata": {},
   "outputs": [
    {
     "data": {
      "text/plain": [
       "(1299, 2)"
      ]
     },
     "execution_count": 5,
     "metadata": {},
     "output_type": "execute_result"
    }
   ],
   "source": [
    "dfreviews.shape"
   ]
  },
  {
   "cell_type": "code",
   "execution_count": 6,
   "metadata": {},
   "outputs": [
    {
     "data": {
      "text/html": [
       "<div>\n",
       "<style scoped>\n",
       "    .dataframe tbody tr th:only-of-type {\n",
       "        vertical-align: middle;\n",
       "    }\n",
       "\n",
       "    .dataframe tbody tr th {\n",
       "        vertical-align: top;\n",
       "    }\n",
       "\n",
       "    .dataframe thead th {\n",
       "        text-align: right;\n",
       "    }\n",
       "</style>\n",
       "<table border=\"1\" class=\"dataframe\">\n",
       "  <thead>\n",
       "    <tr style=\"text-align: right;\">\n",
       "      <th></th>\n",
       "      <th>review</th>\n",
       "      <th>polarity</th>\n",
       "    </tr>\n",
       "  </thead>\n",
       "  <tbody>\n",
       "    <tr>\n",
       "      <th>0</th>\n",
       "      <td>بعد سنوات من القطيعة, عادت أحلام مستغانمي للأد...</td>\n",
       "      <td>P</td>\n",
       "    </tr>\n",
       "    <tr>\n",
       "      <th>1</th>\n",
       "      <td>من الناحية البيانية تعد الرواية غنية جداً بالص...</td>\n",
       "      <td>N</td>\n",
       "    </tr>\n",
       "    <tr>\n",
       "      <th>2</th>\n",
       "      <td>رواية كقطعة كبيرة من الشوكولا المغلفة بورق فاخ...</td>\n",
       "      <td>P</td>\n",
       "    </tr>\n",
       "    <tr>\n",
       "      <th>3</th>\n",
       "      <td>لم تبهرني الرواية .. توقعت أحداثها و شعرت بالخ...</td>\n",
       "      <td>N</td>\n",
       "    </tr>\n",
       "    <tr>\n",
       "      <th>4</th>\n",
       "      <td>كانت الحكمة التي انهت بها احلام روايتها ..عبقر...</td>\n",
       "      <td>P</td>\n",
       "    </tr>\n",
       "  </tbody>\n",
       "</table>\n",
       "</div>"
      ],
      "text/plain": [
       "                                              review polarity\n",
       "0  بعد سنوات من القطيعة, عادت أحلام مستغانمي للأد...        P\n",
       "1  من الناحية البيانية تعد الرواية غنية جداً بالص...        N\n",
       "2  رواية كقطعة كبيرة من الشوكولا المغلفة بورق فاخ...        P\n",
       "3  لم تبهرني الرواية .. توقعت أحداثها و شعرت بالخ...        N\n",
       "4  كانت الحكمة التي انهت بها احلام روايتها ..عبقر...        P"
      ]
     },
     "execution_count": 6,
     "metadata": {},
     "output_type": "execute_result"
    }
   ],
   "source": [
    "dfreviews.head(5)"
   ]
  },
  {
   "cell_type": "code",
   "execution_count": 7,
   "metadata": {
    "scrolled": true
   },
   "outputs": [
    {
     "data": {
      "text/html": [
       "<div>\n",
       "<style scoped>\n",
       "    .dataframe tbody tr th:only-of-type {\n",
       "        vertical-align: middle;\n",
       "    }\n",
       "\n",
       "    .dataframe tbody tr th {\n",
       "        vertical-align: top;\n",
       "    }\n",
       "\n",
       "    .dataframe thead th {\n",
       "        text-align: right;\n",
       "    }\n",
       "</style>\n",
       "<table border=\"1\" class=\"dataframe\">\n",
       "  <thead>\n",
       "    <tr style=\"text-align: right;\">\n",
       "      <th></th>\n",
       "      <th>review</th>\n",
       "    </tr>\n",
       "    <tr>\n",
       "      <th>polarity</th>\n",
       "      <th></th>\n",
       "    </tr>\n",
       "  </thead>\n",
       "  <tbody>\n",
       "    <tr>\n",
       "      <th>N</th>\n",
       "      <td>646</td>\n",
       "    </tr>\n",
       "    <tr>\n",
       "      <th>P</th>\n",
       "      <td>648</td>\n",
       "    </tr>\n",
       "  </tbody>\n",
       "</table>\n",
       "</div>"
      ],
      "text/plain": [
       "          review\n",
       "polarity        \n",
       "N            646\n",
       "P            648"
      ]
     },
     "execution_count": 7,
     "metadata": {},
     "output_type": "execute_result"
    }
   ],
   "source": [
    "dfreviews.groupby('polarity').count()"
   ]
  },
  {
   "cell_type": "markdown",
   "metadata": {},
   "source": [
    "#   Preprocessing"
   ]
  },
  {
   "cell_type": "markdown",
   "metadata": {},
   "source": [
    "*  #### Drop missing values "
   ]
  },
  {
   "cell_type": "code",
   "execution_count": 3,
   "metadata": {},
   "outputs": [],
   "source": [
    "def dropvalmanq(dfreviews):\n",
    "    valmanq=[]\n",
    "    for index,review in dfreviews.iterrows():\n",
    "        if pd.isnull(dfreviews.review[index]):\n",
    "            valmanq.append(index)\n",
    "    dfreviews.drop(dfreviews.index[valmanq], inplace=True)\n",
    "    return dfreviews\n",
    "            "
   ]
  },
  {
   "cell_type": "code",
   "execution_count": 4,
   "metadata": {},
   "outputs": [],
   "source": [
    "dfreviews=dropvalmanq(dfreviews)"
   ]
  },
  {
   "cell_type": "markdown",
   "metadata": {},
   "source": [
    "* #### Text normalization"
   ]
  },
  {
   "cell_type": "code",
   "execution_count": 5,
   "metadata": {},
   "outputs": [],
   "source": [
    "def normalizer(text):\n",
    "    text = re.sub(r\"أ\",\"ا\",text)\n",
    "    text = re.sub(r\"إ\",\"ا\",text)\n",
    "    text = re.sub(r\"آ\",\"ا\",text)\n",
    "    text = re.sub(r\"ٱ\",\"ا\",text)\n",
    "    text = re.sub(r\"ى\",\"ي\",text)\n",
    "    text = re.sub(r\"ؤ\", \"ء\", text)\n",
    "    text = re.sub(r\"ئ\", \"ء\", text)\n",
    "    text = re.sub(r\"ة\", \"ه\", text)\n",
    "    text = re.sub(r\"[ ^ ) : ( -- * { _ } ? ! < >  || @ #  ' x X = % \\ / .  ~ ¨$ & + £ ;  ]\",\" \", text)\n",
    "    text = re.sub(r\"[a-z A-Z]\",\" \", text)\n",
    "    text = re.sub(r\"[0-9]\",\" \", text)\n",
    "    text = re.sub(ur\"[٠-٩]\",\" \", text)\n",
    "    text = re.sub(ur\"[؟ ، « »]\",\" \", text)\n",
    "    text = re.sub(ur'(.)\\1+', ur'\\1',text)  \n",
    "    #words = text.split()\n",
    "    #text=\" \".join(sorted(set(words), key=words.index))\n",
    "    noise = re.compile(\"\"\" ّ    | # Tashdid\n",
    "                             َ    | # Fatha\n",
    "                             ً    | # Tanwin Fath\n",
    "                             ُ    | # Damma\n",
    "                             ٌ    | # Tanwin Damm\n",
    "                             ِ    | # Kasra\n",
    "                             ٍ    | # Tanwin Kasr\n",
    "                             ْ    | # Sukun\n",
    "                             ـ     # Tatwil/Kashida\n",
    "                         \"\"\", re.VERBOSE)\n",
    "    text = re.sub(noise, '', text)\n",
    "    return text"
   ]
  },
  {
   "cell_type": "markdown",
   "metadata": {},
   "source": [
    "* #### Remove Emojis\n"
   ]
  },
  {
   "cell_type": "code",
   "execution_count": 8,
   "metadata": {},
   "outputs": [],
   "source": [
    "def emojisremove(text):\n",
    "    swlist= open(\"/Users/ikram/Documents/PhD/files/emojis.txt\",\"r\")\n",
    "    arstopwords=swlist.read().decode('utf-8').split(\"\\n\")\n",
    "    nonstopwords=[]\n",
    "    textwords= word_tokenize(text)\n",
    "    for w in textwords :\n",
    "        if w not in (arstopwords):\n",
    "            nonstopwords.append(w)\n",
    "    nswtext=\" \".join(nonstopwords)\n",
    "    return nswtext"
   ]
  },
  {
   "cell_type": "markdown",
   "metadata": {},
   "source": [
    "* #### Remove stops words"
   ]
  },
  {
   "cell_type": "code",
   "execution_count": 1,
   "metadata": {},
   "outputs": [],
   "source": [
    "def nonstopwords(text):\n",
    "    swlist= open(\"/Users/ikram/Documents/PhD/files/list.txt\",\"r\")\n",
    "    arstopwords=swlist.read().decode('utf-8').split(\"\\n\")\n",
    "    nonstopwords=[]\n",
    "    textwords= word_tokenize(text)\n",
    "    for w in textwords :\n",
    "        if w not in (arstopwords):\n",
    "            nonstopwords.append(w)\n",
    "    nswtext=\" \".join(nonstopwords)\n",
    "    return nswtext"
   ]
  },
  {
   "cell_type": "markdown",
   "metadata": {},
   "source": [
    "* #### Stemming"
   ]
  },
  {
   "cell_type": "code",
   "execution_count": 10,
   "metadata": {},
   "outputs": [],
   "source": [
    "def stemming(text):\n",
    "    stemmer= ISRIStemmer()\n",
    "    stemmedwords=[]\n",
    "    textwords= word_tokenize(text)\n",
    "    for w in textwords :\n",
    "        stemmedwords.append(stemmer.stem(w))\n",
    "    stemmedtext=\" \".join(stemmedwords)\n",
    "    return stemmedtext\n",
    "    "
   ]
  },
  {
   "cell_type": "markdown",
   "metadata": {},
   "source": [
    "* ####  Global preprocessing function (Normalisation,  emojis,  stopwords, stemming)"
   ]
  },
  {
   "cell_type": "code",
   "execution_count": 12,
   "metadata": {},
   "outputs": [],
   "source": [
    "def preprocessingDataset(dfreviews):\n",
    "    preprocessedreviews=[]\n",
    "    for index,review in dfreviews.iterrows():\n",
    "        revtext=stemming(nonstopwords(normalizer(emojisremove(str(review['review']).decode('utf-8')))))\n",
    "        if review['polarity']=='P':\n",
    "            preprocessedreviews.append([revtext,1])\n",
    "        else:\n",
    "            preprocessedreviews.append([revtext,0])\n",
    "    preprocessedDF=pd.DataFrame(preprocessedreviews,columns=['review','polarity'])\n",
    "    return preprocessedDF\n",
    "    "
   ]
  },
  {
   "cell_type": "code",
   "execution_count": 13,
   "metadata": {},
   "outputs": [],
   "source": [
    "preprocessedDF=preprocessingDataset(dfreviews)"
   ]
  },
  {
   "cell_type": "code",
   "execution_count": 14,
   "metadata": {},
   "outputs": [],
   "source": [
    "textdata=preprocessedDF['review']"
   ]
  },
  {
   "cell_type": "markdown",
   "metadata": {},
   "source": [
    "# Text Vectorization \n"
   ]
  },
  {
   "cell_type": "markdown",
   "metadata": {},
   "source": [
    "* #### (Binary Count)"
   ]
  },
  {
   "cell_type": "code",
   "execution_count": 19,
   "metadata": {},
   "outputs": [],
   "source": [
    "def Binaryvectorization(textdata):\n",
    "    vectorizer=CountVectorizer(min_df=0.002,max_df=0.2,\n",
    "                               analyzer='word',ngram_range=(1,3),binary=True)\n",
    "    tfidf= vectorizer.fit_transform(textdata)\n",
    "    return vectorizer.vocabulary_,tfidf"
   ]
  },
  {
   "cell_type": "markdown",
   "metadata": {},
   "source": [
    "* #### (TFIDF)"
   ]
  },
  {
   "cell_type": "code",
   "execution_count": 20,
   "metadata": {},
   "outputs": [],
   "source": [
    "def Tfidfvectorization(textdata):\n",
    "    vectorizer=TfidfVectorizer(min_df=0.002,max_df=0.2,\n",
    "                               sublinear_tf=True,analyzer='word',ngram_range=(1,3))\n",
    "    tfidf= vectorizer.fit_transform(textdata)\n",
    "    return vectorizer.vocabulary_,tfidf"
   ]
  },
  {
   "cell_type": "code",
   "execution_count": 21,
   "metadata": {},
   "outputs": [],
   "source": [
    "voctfidf,tfidfmatrix=Tfidfvectorization(textdata)"
   ]
  },
  {
   "cell_type": "code",
   "execution_count": 22,
   "metadata": {},
   "outputs": [
    {
     "data": {
      "text/plain": [
       "<1298x1599 sparse matrix of type '<type 'numpy.float64'>'\n",
       "\twith 16338 stored elements in Compressed Sparse Row format>"
      ]
     },
     "execution_count": 22,
     "metadata": {},
     "output_type": "execute_result"
    }
   ],
   "source": [
    " tfidfmatrix"
   ]
  },
  {
   "cell_type": "code",
   "execution_count": 23,
   "metadata": {},
   "outputs": [
    {
     "data": {
      "text/plain": [
       "u'print(\"Term: \"+\"  Indice: \")\\nfor key, value in voctfidf.items():\\n    print(key+\"\\t\"+str(value))'"
      ]
     },
     "execution_count": 23,
     "metadata": {},
     "output_type": "execute_result"
    }
   ],
   "source": [
    "\"\"\"print(\"Term: \"+\"  Indice: \")\n",
    "for key, value in voctfidf.items():\n",
    "    print(key+\"\\t\"+str(value))\"\"\""
   ]
  },
  {
   "cell_type": "code",
   "execution_count": 24,
   "metadata": {},
   "outputs": [],
   "source": [
    "def scoring(acc):\n",
    "    if acc >0.5:\n",
    "        return acc\n",
    "    else:\n",
    "        return 1-acc"
   ]
  },
  {
   "cell_type": "markdown",
   "metadata": {},
   "source": [
    "# Spectral Clustering Algorithm "
   ]
  },
  {
   "cell_type": "code",
   "execution_count": 25,
   "metadata": {},
   "outputs": [],
   "source": [
    "def SPCL(X,gamma,k):\n",
    "    #startsc=timeit.default_timer()\n",
    "    affinity_mat= laplacian_kernel(X,gamma=gamma)\n",
    "    #endsc=timeit.default_timer()\n",
    "    np.fill_diagonal(affinity_mat, 0)\n",
    "    s=len(affinity_mat)\n",
    "    Diagonal_dgr = np.zeros((s,s), float)\n",
    "    Diagonal_inv = np.zeros((s,s), float)\n",
    "    # Diagonal Degree Matrix\n",
    "    \n",
    "    for i in range(0,s):\n",
    "        Diagonal_dgr[i][i]=sum(affinity_mat[i])\n",
    "    laplacian_mat=Diagonal_dgr-affinity_mat\n",
    "    \n",
    "    # Normalized Diagonal Degree Matrix\n",
    "    \n",
    "    for i in range(0,s):\n",
    "        Diagonal_inv[i][i]=np.sqrt(1./sum(affinity_mat[i]))\n",
    "    # Laplacian Matrix\n",
    "    laplacian_mat=Diagonal_dgr-affinity_mat\n",
    "    \n",
    "    # Normalized Laplacian Matrix\n",
    "    lapnorm=np.dot(np.dot(Diagonal_inv,laplacian_mat), Diagonal_inv)\n",
    "    lapnorm *= -1\n",
    "    \n",
    "    # Normalized Laplacian Matrix Jordan & Weiss\n",
    "    JWlapnorm=np.dot(np.dot(Diagonal_inv,affinity_mat), Diagonal_inv)\n",
    "    \n",
    "    # EigenValues and EigenVectors\n",
    "    vals_prp, vecs_prp = eigsh(lapnorm, k=k,sigma=1.0,which='LM')\n",
    "    #normalized_vecs_prp=normalize(vecs_prp, axis=0, norm='l1')\n",
    "    #print(\"Execution time of Spectral clustering algorithm is : \"+str(endsc-startsc))\n",
    "    return vecs_prp\n",
    "    #return normalized_vecs_prp\n",
    "\n"
   ]
  },
  {
   "cell_type": "markdown",
   "metadata": {},
   "source": [
    "# Hierarchical Spectral Clustering -HSP-"
   ]
  },
  {
   "cell_type": "code",
   "execution_count": 26,
   "metadata": {},
   "outputs": [],
   "source": [
    "def HSP(X,gamma,k,TrueLabels):\n",
    "    #startsc=timeit.default_timer()\n",
    "    #connectivity = kneighbors_graph(tfidfmatrix, n_neighbors=6, include_self=False)\n",
    "    HC1=AgglomerativeClustering(n_clusters=k,affinity='cosine',linkage='complete')\n",
    "    EigVec= SPCL(X,gamma,k)\n",
    "    HC1.fit(EigVec)\n",
    "    #endsc=timeit.default_timer()\n",
    "    HierAcc=scoring(accuracy_score(HC1.labels_,TrueLabels))\n",
    "    cm=confusion_matrix(TrueLabels, HC1.labels_)\n",
    "    f1=scoring(f1_score(TrueLabels, HC1.labels_))\n",
    "    rec=scoring(recall_score(TrueLabels, HC1.labels_))\n",
    "    prec=scoring(precision_score(TrueLabels, HC1.labels_))\n",
    "    #print(\"Execution time of SC+HC  is : \"+str(endsc-startsc))\n",
    "    return HierAcc,cm,f1,rec,prec"
   ]
  },
  {
   "cell_type": "code",
   "execution_count": 27,
   "metadata": {},
   "outputs": [],
   "source": [
    "HierAcc,cm,f1,rec,prec=HSP(tfidfmatrix,0.29,2,preprocessedDF.polarity)"
   ]
  },
  {
   "cell_type": "code",
   "execution_count": 28,
   "metadata": {},
   "outputs": [
    {
     "name": "stdout",
     "output_type": "stream",
     "text": [
      "\tAccuracy: 0.8313\n",
      "\tPrecision: 0.819\n",
      "\tRecall: 0.812\n",
      "\tF1: 0.816\n",
      "\n",
      "Confusion Matrix: \n",
      "[[ 97 553]\n",
      " [526 122]]\n"
     ]
    }
   ],
   "source": [
    "print(\"\\tAccuracy: %1.4f\" % HierAcc)\n",
    "print(\"\\tPrecision: %1.3f\" % prec)\n",
    "print(\"\\tRecall: %1.3f\" % rec)\n",
    "print(\"\\tF1: %1.3f\\n\" % f1)\n",
    "print(\"Confusion Matrix: \")\n",
    "print(cm)"
   ]
  },
  {
   "cell_type": "markdown",
   "metadata": {},
   "source": [
    "### Gamma Interval"
   ]
  },
  {
   "cell_type": "code",
   "execution_count": 43,
   "metadata": {},
   "outputs": [],
   "source": [
    "gammas=np.arange(0.01, 0.32, 0.02)"
   ]
  },
  {
   "cell_type": "markdown",
   "metadata": {},
   "source": [
    "# HSP results changing Gamma "
   ]
  },
  {
   "cell_type": "code",
   "execution_count": 66,
   "metadata": {},
   "outputs": [
    {
     "name": "stdout",
     "output_type": "stream",
     "text": [
      "Gamma : 0.01\t\t Accuracy score : 0.77\n",
      "Gamma : 0.03\t\t Accuracy score : 0.79\n",
      "Gamma : 0.05\t\t Accuracy score : 0.77\n",
      "Gamma : 0.07\t\t Accuracy score : 0.807\n",
      "Gamma : 0.09\t\t Accuracy score : 0.744\n",
      "Gamma : 0.11\t\t Accuracy score : 0.797\n",
      "Gamma : 0.13\t\t Accuracy score : 0.773\n",
      "Gamma : 0.15\t\t Accuracy score : 0.81\n",
      "Gamma : 0.17\t\t Accuracy score : 0.813\n",
      "Gamma : 0.19\t\t Accuracy score : 0.673\n",
      "Gamma : 0.21\t\t Accuracy score : 0.797\n",
      "Gamma : 0.23\t\t Accuracy score : 0.766\n",
      "Gamma : 0.25\t\t Accuracy score : 0.725\n",
      "Gamma : 0.27\t\t Accuracy score : 0.829\n",
      "Gamma : 0.29\t\t Accuracy score : 0.831\n",
      "Gamma : 0.31\t\t Accuracy score : 0.707\n"
     ]
    }
   ],
   "source": [
    "ListHspAcc=[]\n",
    "\n",
    "for i in gammas:\n",
    "    HierAcc1,cm,f1,rec,prec=HSP(tfidfmatrix,i,2,preprocessedDF.polarity)\n",
    "    ListHspAcc.append(HierAcc1)\n",
    "    print('Gamma : '+str(round(i,3))+'\\t\\t Accuracy score : '+str(round(HierAcc1,3))) \n"
   ]
  },
  {
   "cell_type": "code",
   "execution_count": 124,
   "metadata": {},
   "outputs": [
    {
     "data": {
      "image/png": "[encoded data removed]",
      "text/plain": [
       "<Figure size 432x288 with 1 Axes>"
      ]
     },
     "metadata": {},
     "output_type": "display_data"
    }
   ],
   "source": [
    "plt.plot(gammas,ListHspAcc)\n",
    "plt.xlabel('Gamma',fontsize=12)\n",
    "plt.ylabel('Accuracy (%)',fontsize=12)\n",
    "plt.show()"
   ]
  },
  {
   "cell_type": "markdown",
   "metadata": {},
   "source": [
    "# Spectral Clustering with Kmeans -KSP-"
   ]
  },
  {
   "cell_type": "code",
   "execution_count": 29,
   "metadata": {},
   "outputs": [],
   "source": [
    "def KSP(X,gamma,k,TrueLabels):\n",
    "    EigVec= SPCL(X,gamma,k)\n",
    "    _, labels, _ = k_means(EigVec, k)\n",
    "    KmAcc=scoring(accuracy_score(labels,TrueLabels))\n",
    "    return KmAcc\n",
    "    "
   ]
  },
  {
   "cell_type": "code",
   "execution_count": 30,
   "metadata": {},
   "outputs": [
    {
     "data": {
      "text/plain": [
       "0.7334360554699538"
      ]
     },
     "execution_count": 30,
     "metadata": {},
     "output_type": "execute_result"
    }
   ],
   "source": [
    "KSP(tfidfmatrix,0.01,2,preprocessedDF.polarity)"
   ]
  },
  {
   "cell_type": "markdown",
   "metadata": {},
   "source": [
    "# KSP results changing Gamma "
   ]
  },
  {
   "cell_type": "code",
   "execution_count": 705,
   "metadata": {},
   "outputs": [],
   "source": [
    "ListKspAcc=[]\n",
    "for i in gammas:\n",
    "     ListKspAcc.append(KSP(tfidfmatrix,i,2,preprocessedDF.polarity))"
   ]
  },
  {
   "cell_type": "code",
   "execution_count": 706,
   "metadata": {},
   "outputs": [
    {
     "name": "stdout",
     "output_type": "stream",
     "text": [
      "Gamma : \t Accuracy score : \n",
      "0.01\t\t0.733\n",
      "0.03\t\t0.733\n",
      "0.05\t\t0.732\n",
      "0.07\t\t0.73\n",
      "0.09\t\t0.723\n",
      "0.11\t\t0.716\n",
      "0.13\t\t0.711\n",
      "0.15\t\t0.708\n",
      "0.17\t\t0.703\n",
      "0.19\t\t0.696\n",
      "0.21\t\t0.684\n",
      "0.23\t\t0.68\n",
      "0.25\t\t0.676\n",
      "0.27\t\t0.673\n",
      "0.29\t\t0.667\n"
     ]
    }
   ],
   "source": [
    "print('Gamma : \\t Accuracy score : ')\n",
    "for i in range(0,len(gammas)) :\n",
    "    print(str(round(gammas[i],3))+'\\t\\t'+str(round(ListKspAcc[i],3))) \n"
   ]
  },
  {
   "cell_type": "code",
   "execution_count": 707,
   "metadata": {},
   "outputs": [
    {
     "data": {
      "image/png": "[encoded data removed]",
      "text/plain": [
       "<Figure size 432x288 with 1 Axes>"
      ]
     },
     "metadata": {},
     "output_type": "display_data"
    }
   ],
   "source": [
    "plt.plot(gammas,ListKspAcc)\n",
    "plt.xlabel('Gamma')\n",
    "plt.ylabel('Accuracy')\n",
    "plt.ylabel('Accuracy of KSP changing Gamma ')\n",
    "plt.show()"
   ]
  },
  {
   "cell_type": "code",
   "execution_count": null,
   "metadata": {},
   "outputs": [],
   "source": []
  },
  {
   "cell_type": "markdown",
   "metadata": {},
   "source": [
    "# Kmeans"
   ]
  },
  {
   "cell_type": "code",
   "execution_count": 52,
   "metadata": {},
   "outputs": [
    {
     "data": {
      "text/plain": [
       "KMeans(algorithm='auto', copy_x=True, init='k-means++', max_iter=1000,\n",
       "    n_clusters=2, n_init=10, n_jobs=1, precompute_distances='auto',\n",
       "    random_state=None, tol=0.0001, verbose=0)"
      ]
     },
     "execution_count": 52,
     "metadata": {},
     "output_type": "execute_result"
    }
   ],
   "source": [
    "km=KMeans(n_clusters=2,max_iter=1000)\n",
    "km.fit(tfidfmatrix)"
   ]
  },
  {
   "cell_type": "code",
   "execution_count": 53,
   "metadata": {},
   "outputs": [],
   "source": [
    "kmacc=scoring(accuracy_score(km.labels_,preprocessedDF.polarity))"
   ]
  },
  {
   "cell_type": "code",
   "execution_count": 54,
   "metadata": {},
   "outputs": [
    {
     "name": "stdout",
     "output_type": "stream",
     "text": [
      "(u'Kmeans Acuracy score is : ', 0.647919876733436)\n"
     ]
    }
   ],
   "source": [
    "print('Kmeans Acuracy score is : ',kmacc)"
   ]
  },
  {
   "cell_type": "code",
   "execution_count": 56,
   "metadata": {},
   "outputs": [],
   "source": [
    "scores.append(kmacc*100)"
   ]
  },
  {
   "cell_type": "code",
   "execution_count": 57,
   "metadata": {},
   "outputs": [],
   "source": [
    "scores.append(HierAcc*100)"
   ]
  },
  {
   "cell_type": "code",
   "execution_count": 58,
   "metadata": {},
   "outputs": [
    {
     "data": {
      "text/plain": [
       "[64.7919876733436, 83.12788906009246]"
      ]
     },
     "execution_count": 58,
     "metadata": {},
     "output_type": "execute_result"
    }
   ],
   "source": [
    "scores"
   ]
  },
  {
   "cell_type": "code",
   "execution_count": 60,
   "metadata": {},
   "outputs": [],
   "source": [
    "#clfsnames= ['MultinomialNB','BernoulliNB','SVC','LinearSVC','K-means','Spectral Clustering']\n",
    "clfsnames= clfsnames= ['K-means','Spectral Clustering']"
   ]
  },
  {
   "cell_type": "code",
   "execution_count": 70,
   "metadata": {},
   "outputs": [
    {
     "data": {
      "image/png": "[encoded data removed]",
      "text/plain": [
       "<Figure size 360x432 with 1 Axes>"
      ]
     },
     "metadata": {},
     "output_type": "display_data"
    }
   ],
   "source": [
    "# boxplot algorithm comparison\n",
    "fig = plt.figure(figsize=(5, 6))\n",
    "ax = fig.add_subplot(111)\n",
    "\n",
    "\n",
    "y_pos = np.arange(len(scores))\n",
    "pltt=ax.bar(y_pos,scores,width = 0.50 , align='center', alpha=0.6)\n",
    "plt.xticks(y_pos, clfsnames,fontsize=12)\n",
    "plt.yticks(fontsize=12)\n",
    "plt.ylabel('Accuracy (%)\\n',fontsize=12)\n",
    "pltt[0].set_color('darkgrey')\n",
    "pltt[1].set_color('black')\n",
    "for p in ax.patches:\n",
    "    ax.annotate(str(round(p.get_height(),2)), (p.get_x() * 1.005, p.get_height() * 1.005),fontsize=12)\n",
    "    \n",
    "plt.show()"
   ]
  }
 ],
 "metadata": {
  "kernelspec": {
   "display_name": "Python 2",
   "language": "python",
   "name": "python2"
  },
  "language_info": {
   "codemirror_mode": {
    "name": "ipython",
    "version": 2
   },
   "file_extension": ".py",
   "mimetype": "text/x-python",
   "name": "python",
   "nbconvert_exporter": "python",
   "pygments_lexer": "ipython2",
   "version": "2.7.14"
  }
 },
 "nbformat": 4,
 "nbformat_minor": 2
}
